{
 "cells": [
  {
   "cell_type": "code",
   "execution_count": 7,
   "id": "6703cf3b",
   "metadata": {},
   "outputs": [],
   "source": [
    "import pandas as pd\n",
    "import numpy as np\n",
    "from PIL import Image, ImageFont, ImageDraw\n",
    "import os\n",
    "import re\n",
    "import shutil"
   ]
  },
  {
   "cell_type": "code",
   "execution_count": null,
   "id": "f554812c",
   "metadata": {},
   "outputs": [],
   "source": []
  },
  {
   "cell_type": "code",
   "execution_count": 15,
   "id": "1a860850",
   "metadata": {},
   "outputs": [],
   "source": [
    "def create_ad(\n",
    "    label, \n",
    "    name, \n",
    "    text, \n",
    "    variety, \n",
    "    price, \n",
    "    seal,\n",
    "    img_name='test.png'\n",
    "    ):\n",
    "    \"\"\"Creates a wine ad given a set of input image path variables\n",
    "    Args:\n",
    "        label: string pointing to the variable `label` image file to be pasted in the image.\n",
    "        name: string pointing to the variable `name` image file to be pasted in the image.\n",
    "        text: string pointing to the variable `text` image file to be pasted in the image.\n",
    "        variety: string pointing to the variable `variety` image file to be pasted in the image.\n",
    "        price: string pointing to the variable `price` image file to be pasted in the image.\n",
    "        seal: string pointing to the variable `seal` image file to be pasted in the image.\n",
    "        img_name: final output name of the image\n",
    "    Returns:\n",
    "        image_name\n",
    "    \"\"\"\n",
    "    # config\n",
    "    width = 1600\n",
    "    height = 1600\n",
    "    grey = (123,123,123)\n",
    "    size = (width, height)\n",
    "#     font = Imagefont.truetype(\"fonts/font.otf\",150)\n",
    "\n",
    "    # load images\n",
    "    background = Image.new ('RGBA', size, grey)\n",
    "    bottle = Image.open(f'image/bg/Flasche_Blanko.png',formats=['PNG'])\n",
    "    capsule = Image.open(f'image/bg/Kapsel.png', formats=['PNG'])\n",
    "    tag = Image.open(f'image/bg/Preisschild.png', formats=['PNG'])\n",
    "    canvas = Image.open(f'image/bg/Blanko_Rückeneti.png', formats=['PNG'])\n",
    "\n",
    "    _label = Image.open(f'image/{label}', formats=['PNG'])\n",
    "    _name = Image.open(f'image/{name}', formats=['PNG']).convert(\"RGBA\")\n",
    "    _text = Image.open (f'image/{text}', formats=['PNG']).convert(\"RGBA\")\n",
    "    _variety = Image.open(f\"image/{variety}\", formats=[\"PNG\"]).convert(\"RGBA\")\n",
    "    _price = Image.open(f'image/{price}', formats=['PNG']).convert(\"RGBA\")\n",
    "    _seal = Image.open (f'image/{seal}', formats=['PNG'])\n",
    "\n",
    "    # background\n",
    "    background.paste(bottle, (18, height-1552-18), bottle)\n",
    "    background.paste(tag, (300,30), tag)\n",
    "    background.paste(capsule, (167,18), capsule)\n",
    "    background.paste(canvas, (width-1079-35, height-1075-30), canvas)\n",
    "                     \n",
    "    # variable content\n",
    "    background.paste(_seal, (140,700), _seal)\n",
    "    background.paste(_label, (30,1030), _label)\n",
    "    background.paste(_name, (665,600), _name)\n",
    "    background.paste(_text, (560,930), _text)\n",
    "    background.paste(_variety, (820,790), _variety)\n",
    "    background.paste(_price, (800, 160), _price)\n",
    "\n",
    "    background.save(img_name)\n",
    "    return img_name, background.show( )\n",
    "\n",
    "\n"
   ]
  },
  {
   "cell_type": "code",
   "execution_count": 19,
   "id": "9f3aef2e",
   "metadata": {},
   "outputs": [
    {
     "data": {
      "text/plain": [
       "('test.png', None)"
      ]
     },
     "execution_count": 19,
     "metadata": {},
     "output_type": "execute_result"
    }
   ],
   "source": [
    "create_ad(\n",
    "    label='label_cb_1.png', \n",
    "    name='brand_1.png',\n",
    "    text='text_2.png',\n",
    "    variety='rebs_3.png',\n",
    "    price='price_1.png',\n",
    "    seal='siegel_3.png'\n",
    ")"
   ]
  },
  {
   "cell_type": "code",
   "execution_count": 12,
   "id": "3fcf601b",
   "metadata": {},
   "outputs": [
    {
     "name": "stdout",
     "output_type": "stream",
     "text": [
      "1654683111_char_data.txt Image_generation.ipynb   jss3240.pdf\r\n",
      "1654683111_num_data.txt  \u001b[1m\u001b[36mLiteratur\u001b[m\u001b[m                \u001b[1m\u001b[36mnew_v\u001b[m\u001b[m\r\n",
      "18-BA1103.pdf            dcm_piwi.csv             v96i03-figures1_2.R\r\n",
      "Expert_Choice.Rproj      \u001b[1m\u001b[36mfonts\u001b[m\u001b[m                    v96i03.R\r\n",
      "Expert_Choice_Code.R     idefix.pdf               v96i03.pdf\r\n",
      "Idefix.Rproj             \u001b[1m\u001b[36mimage\u001b[m\u001b[m\r\n",
      "Idefix_PIWI_V1.R         img_generator.ipynb\r\n"
     ]
    }
   ],
   "source": [
    "!ls image"
   ]
  },
  {
   "cell_type": "code",
   "execution_count": null,
   "id": "6b506f41",
   "metadata": {},
   "outputs": [],
   "source": []
  }
 ],
 "metadata": {
  "kernelspec": {
   "display_name": "Python 3 (ipykernel)",
   "language": "python",
   "name": "python3"
  },
  "language_info": {
   "codemirror_mode": {
    "name": "ipython",
    "version": 3
   },
   "file_extension": ".py",
   "mimetype": "text/x-python",
   "name": "python",
   "nbconvert_exporter": "python",
   "pygments_lexer": "ipython3",
   "version": "3.8.9"
  },
  "toc": {
   "base_numbering": 1,
   "nav_menu": {},
   "number_sections": true,
   "sideBar": true,
   "skip_h1_title": false,
   "title_cell": "Table of Contents",
   "title_sidebar": "Contents",
   "toc_cell": false,
   "toc_position": {},
   "toc_section_display": true,
   "toc_window_display": false
  }
 },
 "nbformat": 4,
 "nbformat_minor": 5
}
